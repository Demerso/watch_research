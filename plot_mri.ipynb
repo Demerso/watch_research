{
 "cells": [
  {
   "cell_type": "code",
   "execution_count": 1,
   "metadata": {},
   "outputs": [],
   "source": [
    "import warnings\n",
    "warnings.simplefilter(action='ignore', category=FutureWarning)\n",
    "import importlib\n",
    "from pathlib import Path as p\n",
    "from typing import List\n",
    "from src.subject import Subject\n",
    "import src\n",
    "importlib.reload(src)\n",
    "import seaborn as sns\n",
    "\n",
    "sns.set()\n",
    "\n",
    "path = p(\"./mri/nii/\")\n",
    "subjects: List[Subject] = []\n",
    "subjects.append(Subject.builder(path/\"subject_01\").set_heart(1101, (128, 132)).set_brain(2201, (128, 93)).build())\n",
    "subjects.append(Subject.builder(path/\"subject_02\").set_heart(1901, (127, 128)).set_brain(901, (123, 106)).build())\n",
    "subjects.append(Subject.builder(path/\"subject_03\").set_heart(801, (99, 86)).set_brain(601, (120, 92)).build())\n",
    "subjects.append(Subject.builder(path/\"subject_04\").set_heart(1801, (127, 136)).set_brain(601, (123, 114)).build())\n",
    "subjects.append(Subject.builder(path/\"subject_05\").set_heart(701, (54, 124)).set_brain(501, (124, 125)).build())\n",
    "subjects.append(Subject.builder(path/\"subject_06\").set_heart(2001, (128, 130)).set_brain(501, (115, 96)).build())\n",
    "subjects.append(Subject.builder(path/\"subject_07\").set_heart(701, (95, 88)).set_brain(501, (129, 132)).build())\n",
    "subjects.append(Subject.builder(path/\"subject_08\").set_heart(2101, (102, 102)).set_brain(501, (120, 130)).build())\n",
    "subjects.append(Subject.builder(path/\"subject_09\").set_heart(701, (97, 105)).set_brain(501, (125, 113)).build())\n",
    "subjects.append(Subject.builder(path/\"subject_10\").set_heart(1501, (129, 130)).set_brain(501, (122, 120)).build())\n",
    "subjects.append(Subject.builder(path/\"subject_11\").set_heart(1801, (123, 130)).set_brain(501, (119, 102)).build())\n",
    "subjects.append(Subject.builder(path/\"subject_12\").set_heart(1701, (126, 127)).set_brain(501, (128, 120)).build())\n",
    "subjects.append(Subject.builder(path/\"subject_13\").set_heart(1701, (129, 131)).set_brain(501, (115, 118)).build())\n",
    "subjects.append(Subject.builder(path/\"subject_14\").set_heart(1801, (127, 130)).set_brain(2301, (124, 106)).build())\n",
    "subjects.append(Subject.builder(path/\"subject_15\").set_heart(701, (91, 125)).set_brain(501, (126, 120)).build())\n",
    "subjects.append(Subject.builder(path/\"subject_16\").set_heart(1001, (84, 122)).set_brain(501, (124, 124)).build())\n",
    "subjects.append(Subject.builder(path/\"subject_17\").set_heart(701, (96, 121)).set_brain(501, (125, 115)).build())\n",
    "subjects.append(Subject.builder(path/\"subject_18\").set_heart(901, (80, 143)).set_brain(701, (119, 117)).build())\n",
    "subjects.append(Subject.builder(path/\"subject_19\").set_heart(701, (94, 120)).set_brain(501, (126, 114)).build())\n",
    "subjects.append(Subject.builder(path/\"subject_20\").set_heart(1001, (76, 119)).set_brain(801, (118, 89)).build())\n",
    "subjects.append(Subject.builder(path/\"subject_21\").set_heart(701, (81, 115)).set_brain(501, (125, 110)).build())\n",
    "\n",
    "\n",
    "output_path = p(\"./output/\")\n",
    "for subject in subjects:\n",
    "    subject.plot_qflow(output_path)"
   ]
  },
  {
   "cell_type": "code",
   "execution_count": null,
   "metadata": {},
   "outputs": [],
   "source": []
  }
 ],
 "metadata": {
  "kernelspec": {
   "display_name": "Python 3.10.6 64-bit",
   "language": "python",
   "name": "python3"
  },
  "language_info": {
   "codemirror_mode": {
    "name": "ipython",
    "version": 3
   },
   "file_extension": ".py",
   "mimetype": "text/x-python",
   "name": "python",
   "nbconvert_exporter": "python",
   "pygments_lexer": "ipython3",
   "version": "3.10.6"
  },
  "orig_nbformat": 4,
  "vscode": {
   "interpreter": {
    "hash": "e7370f93d1d0cde622a1f8e1c04877d8463912d04d973331ad4851f04de6915a"
   }
  }
 },
 "nbformat": 4,
 "nbformat_minor": 2
}
